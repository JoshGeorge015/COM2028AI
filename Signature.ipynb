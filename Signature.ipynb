{
  "nbformat": 4,
  "nbformat_minor": 0,
  "metadata": {
    "kernelspec": {
      "display_name": "Python 3",
      "language": "python",
      "name": "python3"
    },
    "language_info": {
      "codemirror_mode": {
        "name": "ipython",
        "version": 3
      },
      "file_extension": ".py",
      "mimetype": "text/x-python",
      "name": "python",
      "nbconvert_exporter": "python",
      "pygments_lexer": "ipython3",
      "version": "3.7.7"
    },
    "colab": {
      "name": "Signature.ipynb",
      "provenance": [],
      "collapsed_sections": []
    }
  },
  "cells": [
    {
      "cell_type": "code",
      "metadata": {
        "id": "xNvGfChnLd5q",
        "colab_type": "code",
        "colab": {
          "base_uri": "https://localhost:8080/",
          "height": 84
        },
        "outputId": "ea959e23-d72c-424d-8112-a92f6c173679"
      },
      "source": [
        "!pip3 install scipy==1.1.0\n",
        "!pip3 install sklearn==1.1.0\n"
      ],
      "execution_count": null,
      "outputs": [
        {
          "output_type": "stream",
          "text": [
            "Requirement already satisfied: scipy==1.1.0 in /usr/local/lib/python3.6/dist-packages (1.1.0)\n",
            "Requirement already satisfied: numpy>=1.8.2 in /usr/local/lib/python3.6/dist-packages (from scipy==1.1.0) (1.18.5)\n",
            "\u001b[31mERROR: Could not find a version that satisfies the requirement sklearn==1.1.0 (from versions: 0.0)\u001b[0m\n",
            "\u001b[31mERROR: No matching distribution found for sklearn==1.1.0\u001b[0m\n"
          ],
          "name": "stdout"
        }
      ]
    },
    {
      "cell_type": "code",
      "metadata": {
        "id": "PG41VrLyLd59",
        "colab_type": "code",
        "colab": {
          "base_uri": "https://localhost:8080/",
          "height": 34
        },
        "outputId": "d987ea58-8c69-4cbb-e9f7-1fd704127d98"
      },
      "source": [
        "import time\n",
        "import numpy as np\n",
        "import matplotlib.pyplot as plt\n",
        "import matplotlib.patches as mpatches\n",
        "# import scipy.misc\n",
        "# import imread\n",
        "import imageio\n",
        "from scipy.misc import imread, imresize, imsave\n",
        "from skimage.morphology import label\n",
        "from skimage.measure import regionprops\n",
        "from skimage.transform import resize\n",
        "import sys\n",
        "import os\n",
        "import scipy\n",
        "scipy.__version__\n"
      ],
      "execution_count": null,
      "outputs": [
        {
          "output_type": "execute_result",
          "data": {
            "text/plain": [
              "'1.1.0'"
            ]
          },
          "metadata": {
            "tags": []
          },
          "execution_count": 2
        }
      ]
    },
    {
      "cell_type": "code",
      "metadata": {
        "id": "i6YykRnDaIG9",
        "colab_type": "code",
        "colab": {
          "base_uri": "https://localhost:8080/",
          "height": 50
        },
        "outputId": "1de3929e-ea0d-4701-f496-6d32c645e843"
      },
      "source": [
        "# import zipfile\n",
        "# zip_ref=zipfile.ZipFile(\"SignImg.zip\", \"r\")\n",
        "# zip_ref.extractall()\n",
        "# zip_ref.close()\n",
        "!unzip ./SignImg.zip"
      ],
      "execution_count": null,
      "outputs": [
        {
          "output_type": "stream",
          "text": [
            "Archive:  ./SignImg.zip\n",
            "replace SignImg/sign_data/test/049/01_049.png? [y]es, [n]o, [A]ll, [N]one, [r]ename: N\n"
          ],
          "name": "stdout"
        }
      ]
    },
    {
      "cell_type": "code",
      "metadata": {
        "id": "oDVJM58PLd6L",
        "colab_type": "code",
        "colab": {
          "base_uri": "https://localhost:8080/",
          "height": 655
        },
        "outputId": "ced5eb04-c1bd-488a-e8b6-8f268c4c2ea4"
      },
      "source": [
        "np.set_printoptions(threshold=sys.maxsize)\n",
        "# /content/SignImg/sign_data/train/001/001_01.PNG\n",
        "sig_dir='/content/SignImg/sign_data/train'\n",
        "trainingSet=[]\n",
        "# train_dir_no=[1,2,3,4,6,9,12,14,15,16,18,19,20,21,22,23,24,25,26,27,28,29,30,31,32,33,34,35,36,37,38,39,40,41,42,43,44,45,46,47,48,49,50,51,52,53,54,55,56,57,58,59,60]\n",
        "train_dir_no=[1,2,3,4,6,9,12,18,19,20,21,22,23,24,25,26,27,28,29,30,31,32,33,34,35,36,37,38,39,40]\n",
        "print(len(train_dir_no))\n",
        "trainingTarget=[]\n",
        "testingSet=[]\n",
        "testingTarget=[]\n",
        "for i in train_dir_no:\n",
        "    if(i<10):\n",
        "        val=\"00\"+str(i)\n",
        "    else:\n",
        "        val=\"0\"+str(i)\n",
        "    for j in range(1,12):\n",
        "        if(j<10):\n",
        "            ue=\"0\"+str(j)\n",
        "        else:\n",
        "            ue=str(j)\n",
        "#         counter=((i-1)*55)+j\n",
        "        image=sig_dir+\"/\"+val+\"/\"+val+\"_\"+ue+\".PNG\"\n",
        "        # print(image)\n",
        "#         './HandwritingImg/img'+str(counter)+'.png'\n",
        "        # img_data=imread.imread(image,1)\n",
        "        img_data=imread(image,1)\n",
        "        # img_data=imageio.imread(image,1)\n",
        "        img_data=imresize(img_data,(20,20))\n",
        "        data=np.ravel(img_data)\n",
        "        data=scipy.ndimage.gaussian_filter(data, sigma=1)\n",
        "        if((j%3)==0):\n",
        "            testingSet.append(data)\n",
        "            testingTarget.append(i)\n",
        "        else:\n",
        "            trainingSet.append(data)\n",
        "            trainingTarget.append(i)\n",
        "          \n",
        "#         if((j%5)==0):\n",
        "#             testingSet.append(data)\n",
        "    print(i)\n",
        "print(len(trainingSet[5]))"
      ],
      "execution_count": null,
      "outputs": [
        {
          "output_type": "stream",
          "text": [
            "30\n",
            "1\n",
            "2\n",
            "3\n",
            "4\n"
          ],
          "name": "stdout"
        },
        {
          "output_type": "stream",
          "text": [
            "/usr/local/lib/python3.6/dist-packages/ipykernel_launcher.py:26: DeprecationWarning: `imread` is deprecated!\n",
            "`imread` is deprecated in SciPy 1.0.0, and will be removed in 1.2.0.\n",
            "Use ``imageio.imread`` instead.\n",
            "/usr/local/lib/python3.6/dist-packages/ipykernel_launcher.py:28: DeprecationWarning: `imresize` is deprecated!\n",
            "`imresize` is deprecated in SciPy 1.0.0, and will be removed in 1.2.0.\n",
            "Use ``skimage.transform.resize`` instead.\n"
          ],
          "name": "stderr"
        },
        {
          "output_type": "stream",
          "text": [
            "6\n",
            "9\n",
            "12\n",
            "18\n",
            "19\n",
            "20\n",
            "21\n",
            "22\n",
            "23\n",
            "24\n",
            "25\n",
            "26\n",
            "27\n",
            "28\n",
            "29\n",
            "30\n",
            "31\n",
            "32\n",
            "33\n",
            "34\n",
            "35\n",
            "36\n",
            "37\n",
            "38\n",
            "39\n",
            "40\n",
            "400\n"
          ],
          "name": "stdout"
        }
      ]
    },
    {
      "cell_type": "code",
      "metadata": {
        "id": "g9-VOFcnLd6T",
        "colab_type": "code",
        "colab": {
          "base_uri": "https://localhost:8080/",
          "height": 101
        },
        "outputId": "d6b5968a-00ae-4eca-df4a-09671928d2d6"
      },
      "source": [
        "print(len(trainingSet))\n",
        "print(len(trainingTarget))\n",
        "print(len(testingSet))\n",
        "train_arr=np.asarray(trainingSet)\n",
        "print(type(train_arr))\n",
        "# print(np.array(train_arr))\n",
        "# print(np.array(trainingTarget).shape())\n",
        "z=train_arr.shape\n",
        "print(z)\n"
      ],
      "execution_count": null,
      "outputs": [
        {
          "output_type": "stream",
          "text": [
            "240\n",
            "240\n",
            "90\n",
            "<class 'numpy.ndarray'>\n",
            "(240, 400)\n"
          ],
          "name": "stdout"
        }
      ]
    },
    {
      "cell_type": "code",
      "metadata": {
        "id": "x_vKvW42Ld6Z",
        "colab_type": "code",
        "colab": {
          "base_uri": "https://localhost:8080/",
          "height": 1000
        },
        "outputId": "445d041b-4d13-4a81-eef0-39dd79140617"
      },
      "source": [
        "from sklearn.neighbors import KNeighborsClassifier\n",
        "from sklearn.ensemble import RandomForestClassifier\n",
        "from sklearn import svm\n",
        "from sklearn.neural_network import MLPClassifier\n",
        "# from keras.models import Sequential\n",
        "# from keras.layers import Conv2D, LeakyReLU, MaxPooling2D, Dropout, Flatten, Dense\n",
        "# import keras\n",
        "# model 1 - mlp(NN)\n",
        "# nn=MLPClassifier(solver='lbfgs', max_iter=500, alpha=1e-4, learning_rate='adaptive',\n",
        "#                      hidden_layer_sizes=(100,100,100), random_state=21, tol=0.000000001)\n",
        "nn = MLPClassifier(hidden_layer_sizes=(30,15, 30), max_iter=10, alpha=1e-7,\n",
        "                    solver='sgd', verbose=10, activation='logistic',\n",
        "                    learning_rate_init=.5)\n",
        "\n",
        "nn.fit(trainingSet, trainingTarget)\n",
        "\n",
        "# # CREating a test NN\n",
        "# def nonlin(x,deriv=False):\n",
        "#     if(deriv):\n",
        "#         return x*(1-x)\n",
        "#     return 1/(1+np.exp(-x))\n",
        "# syn0=2*np.random.random((784,784))-1\n",
        "# print(len(trainingSet))\n",
        "# print(len(syn0))\n",
        "# # testingSet=trainingSet\n",
        "# # # print(len(nonlin(np.dot(trainingSet, syn0))))\n",
        "# # # model 1 - neural network\n",
        "# for x in range(10):\n",
        "#     l0=trainingSet\n",
        "#     l1=nonlin(np.dot(l0, syn0))\n",
        "#     l1_err= testingSet[0:660]-l1[0:660]\n",
        "#     l1_delta=l1_err*nonlin(l1[0:660],True)\n",
        "#     syn0+=np.dot(np.asarray(l0[0:660]).T, l1_delta)\n",
        "\n",
        "# # print(\"OUTPUT:\")\n",
        "# print(np.asarray(l1[0:1], dtype=np.str))\n",
        "print(\"\\n\\n\\n\")\n",
        "# model 2 knn\n",
        "knn_clf=KNeighborsClassifier(n_jobs=1, weights='distance', n_neighbors=2)\n",
        "knn_clf.fit(trainingSet, trainingTarget)\n",
        "\n",
        "print(knn_clf.predict([trainingSet[0]]))\n",
        "from sklearn.model_selection import cross_val_score\n",
        "\n",
        "\n",
        "#model 3- svm\n",
        "svm_clf=svm.SVC()\n",
        "svm_clf.fit(trainingSet, trainingTarget)\n",
        "\n",
        "\n",
        "\n",
        "\n",
        "# model 4 - rfc\n",
        "rfc=RandomForestClassifier(n_estimators=200, n_jobs=2, random_state=0)\n",
        "rfc.fit(trainingSet, trainingTarget)\n",
        "rfc_score= cross_val_score(rfc, trainingSet, trainingTarget, cv=3, scoring=\"accuracy\")\n",
        "# acc=rfc.predict([trainingSet[0]])\n",
        "# print(acc)\n",
        "# print(f\"RFC ACCuracy: %f\", rfc_score)\n",
        "# testing_files = ['./ocr/testing/adobe.png', './ocr/testing/shazam.png']\n",
        "# testingSet=[]\n",
        "all_files_mlp=[]\n",
        "all_files_knn=[]\n",
        "all_files_rfc=[]\n",
        "all_files_svm=[]\n",
        "# for files in testing_files:\n",
        "#     test=extract.extractFile(files)\n",
        "#     file_data=[]\n",
        "#     count=0\n",
        "for i in testingSet:\n",
        "    value_nn=nn.predict([np.asarray(i.flatten())])\n",
        "    value_knn=knn_clf.predict([np.asarray(i.flatten())])\n",
        "    value_svm=svm_clf.predict([np.asarray(i.flatten())])\n",
        "    value_rfc=rfc.predict([np.asarray(i.flatten())])\n",
        "    all_files_mlp.append(value_nn)\n",
        "    all_files_knn.append(value_knn)\n",
        "    all_files_svm.append(value_svm)\n",
        "    all_files_rfc.append(value_rfc)\n",
        "    all_files_knn.append(\"---------\")\n",
        "    all_files_rfc.append(\"---------\")\n",
        "\n",
        "print(\"NN\")   \n",
        "print(np.asarray(all_files_mlp, dtype='object'))\n",
        "print(\"\\n\\n\\n\")\n",
        "temp = cross_val_score(nn, trainingSet, trainingTarget, cv=3, scoring=\"accuracy\")\n",
        "print(\"NN Acc:\", temp)\n",
        "\n",
        "\n",
        "\n",
        "print(\"KNN\")   \n",
        "print(np.asarray(all_files_knn, dtype='object'))\n",
        "# print(all_files_knn)\n",
        "print(\"\\n\\n\\n\")\n",
        "temp = cross_val_score(knn_clf, trainingSet, trainingTarget, cv=3, scoring=\"accuracy\")\n",
        "print(\"KNN Acc:\", temp)\n",
        "from sklearn.model_selection import learning_curve\n",
        "import matplotlib.pyplot as plt\n",
        "\n"
      ],
      "execution_count": null,
      "outputs": [
        {
          "output_type": "stream",
          "text": [
            "Iteration 1, loss = 3.45941522\n",
            "Iteration 2, loss = 3.42136938\n",
            "Iteration 3, loss = 3.44652813\n",
            "Iteration 4, loss = 3.44106337\n",
            "Iteration 5, loss = 3.45216905\n",
            "Iteration 6, loss = 3.44723533\n",
            "Iteration 7, loss = 3.43858057\n",
            "Iteration 8, loss = 3.42696333\n",
            "Iteration 9, loss = 3.43258866\n",
            "Iteration 10, loss = 3.44172278\n",
            "\n",
            "\n",
            "\n",
            "\n",
            "[1]\n"
          ],
          "name": "stdout"
        },
        {
          "output_type": "stream",
          "text": [
            "/usr/local/lib/python3.6/dist-packages/sklearn/neural_network/_multilayer_perceptron.py:571: ConvergenceWarning: Stochastic Optimizer: Maximum iterations (10) reached and the optimization hasn't converged yet.\n",
            "  % self.max_iter, ConvergenceWarning)\n"
          ],
          "name": "stderr"
        },
        {
          "output_type": "stream",
          "text": [
            "NN\n",
            "[[23]\n",
            " [23]\n",
            " [23]\n",
            " [23]\n",
            " [23]\n",
            " [23]\n",
            " [23]\n",
            " [23]\n",
            " [23]\n",
            " [23]\n",
            " [23]\n",
            " [23]\n",
            " [23]\n",
            " [23]\n",
            " [23]\n",
            " [23]\n",
            " [23]\n",
            " [23]\n",
            " [23]\n",
            " [23]\n",
            " [23]\n",
            " [23]\n",
            " [23]\n",
            " [23]\n",
            " [23]\n",
            " [23]\n",
            " [23]\n",
            " [23]\n",
            " [23]\n",
            " [23]\n",
            " [23]\n",
            " [23]\n",
            " [23]\n",
            " [23]\n",
            " [23]\n",
            " [23]\n",
            " [23]\n",
            " [23]\n",
            " [23]\n",
            " [23]\n",
            " [23]\n",
            " [23]\n",
            " [23]\n",
            " [23]\n",
            " [23]\n",
            " [23]\n",
            " [23]\n",
            " [23]\n",
            " [23]\n",
            " [23]\n",
            " [23]\n",
            " [23]\n",
            " [23]\n",
            " [23]\n",
            " [23]\n",
            " [23]\n",
            " [23]\n",
            " [23]\n",
            " [23]\n",
            " [23]\n",
            " [23]\n",
            " [23]\n",
            " [23]\n",
            " [23]\n",
            " [23]\n",
            " [23]\n",
            " [23]\n",
            " [23]\n",
            " [23]\n",
            " [23]\n",
            " [23]\n",
            " [23]\n",
            " [23]\n",
            " [23]\n",
            " [23]\n",
            " [23]\n",
            " [23]\n",
            " [23]\n",
            " [23]\n",
            " [23]\n",
            " [23]\n",
            " [23]\n",
            " [23]\n",
            " [23]\n",
            " [23]\n",
            " [23]\n",
            " [23]\n",
            " [23]\n",
            " [23]\n",
            " [23]]\n",
            "\n",
            "\n",
            "\n",
            "\n",
            "Iteration 1, loss = 3.44408661\n",
            "Iteration 2, loss = 3.42054347\n",
            "Iteration 3, loss = 3.40450434\n",
            "Iteration 4, loss = 3.39804342\n",
            "Iteration 5, loss = 3.39864549\n",
            "Iteration 6, loss = 3.40202829\n",
            "Iteration 7, loss = 3.40462227\n",
            "Iteration 8, loss = 3.40489107\n",
            "Iteration 9, loss = 3.40317559\n",
            "Iteration 10, loss = 3.40071505\n",
            "Iteration 1, loss = 3.43220403\n",
            "Iteration 2, loss = 3.41573957\n",
            "Iteration 3, loss = 3.40361887\n",
            "Iteration 4, loss = 3.39820542\n",
            "Iteration 5, loss = 3.39794090\n",
            "Iteration 6, loss = 3.40024472\n",
            "Iteration 7, loss = 3.40243045\n",
            "Iteration 8, loss = 3.40305149\n",
            "Iteration 9, loss = 3.40209372\n",
            "Iteration 10, loss = 3.40036655\n",
            "Iteration 1, loss = 3.44755972\n",
            "Iteration 2, loss = 3.42326844\n",
            "Iteration 3, loss = 3.40572498\n",
            "Iteration 4, loss = 3.39834269\n",
            "Iteration 5, loss = 3.39886067\n",
            "Iteration 6, loss = 3.40255411\n",
            "Iteration 7, loss = 3.40528460\n",
            "Iteration 8, loss = 3.40531065\n",
            "Iteration 9, loss = 3.40319538\n",
            "Iteration 10, loss = 3.40048705\n",
            "NN Acc: [0.025 0.025 0.025]\n",
            "KNN\n",
            "[array([1]) '---------' array([1]) '---------' array([1]) '---------'\n",
            " array([2]) '---------' array([2]) '---------' array([2]) '---------'\n",
            " array([25]) '---------' array([3]) '---------' array([3]) '---------'\n",
            " array([4]) '---------' array([4]) '---------' array([4]) '---------'\n",
            " array([37]) '---------' array([6]) '---------' array([6]) '---------'\n",
            " array([9]) '---------' array([9]) '---------' array([9]) '---------'\n",
            " array([12]) '---------' array([12]) '---------' array([12]) '---------'\n",
            " array([18]) '---------' array([18]) '---------' array([18]) '---------'\n",
            " array([19]) '---------' array([18]) '---------' array([18]) '---------'\n",
            " array([20]) '---------' array([18]) '---------' array([20]) '---------'\n",
            " array([21]) '---------' array([21]) '---------' array([21]) '---------'\n",
            " array([22]) '---------' array([22]) '---------' array([22]) '---------'\n",
            " array([23]) '---------' array([23]) '---------' array([23]) '---------'\n",
            " array([24]) '---------' array([21]) '---------' array([21]) '---------'\n",
            " array([37]) '---------' array([33]) '---------' array([33]) '---------'\n",
            " array([26]) '---------' array([26]) '---------' array([26]) '---------'\n",
            " array([27]) '---------' array([27]) '---------' array([27]) '---------'\n",
            " array([28]) '---------' array([28]) '---------' array([28]) '---------'\n",
            " array([29]) '---------' array([29]) '---------' array([29]) '---------'\n",
            " array([30]) '---------' array([12]) '---------' array([30]) '---------'\n",
            " array([31]) '---------' array([38]) '---------' array([31]) '---------'\n",
            " array([32]) '---------' array([32]) '---------' array([32]) '---------'\n",
            " array([33]) '---------' array([33]) '---------' array([33]) '---------'\n",
            " array([34]) '---------' array([29]) '---------' array([34]) '---------'\n",
            " array([26]) '---------' array([9]) '---------' array([35]) '---------'\n",
            " array([29]) '---------' array([23]) '---------' array([36]) '---------'\n",
            " array([37]) '---------' array([37]) '---------' array([37]) '---------'\n",
            " array([38]) '---------' array([38]) '---------' array([31]) '---------'\n",
            " array([39]) '---------' array([39]) '---------' array([39]) '---------'\n",
            " array([40]) '---------' array([40]) '---------' array([9]) '---------']\n",
            "\n",
            "\n",
            "\n",
            "\n",
            "KNN Acc: [0.7875 0.7875 0.7375]\n"
          ],
          "name": "stdout"
        },
        {
          "output_type": "stream",
          "text": [
            "/usr/local/lib/python3.6/dist-packages/sklearn/neural_network/_multilayer_perceptron.py:571: ConvergenceWarning: Stochastic Optimizer: Maximum iterations (10) reached and the optimization hasn't converged yet.\n",
            "  % self.max_iter, ConvergenceWarning)\n",
            "/usr/local/lib/python3.6/dist-packages/sklearn/neural_network/_multilayer_perceptron.py:571: ConvergenceWarning: Stochastic Optimizer: Maximum iterations (10) reached and the optimization hasn't converged yet.\n",
            "  % self.max_iter, ConvergenceWarning)\n",
            "/usr/local/lib/python3.6/dist-packages/sklearn/neural_network/_multilayer_perceptron.py:571: ConvergenceWarning: Stochastic Optimizer: Maximum iterations (10) reached and the optimization hasn't converged yet.\n",
            "  % self.max_iter, ConvergenceWarning)\n"
          ],
          "name": "stderr"
        }
      ]
    },
    {
      "cell_type": "code",
      "metadata": {
        "id": "dvkn5KQFVmN9",
        "colab_type": "code",
        "colab": {
          "base_uri": "https://localhost:8080/",
          "height": 1000
        },
        "outputId": "ace32676-6ce3-4830-8750-9c43dc408416"
      },
      "source": [
        "temp = cross_val_score(nn, trainingSet, trainingTarget, cv=3, scoring=\"accuracy\")\n",
        "print(\"MLP Acc:\", temp)\n",
        "\n",
        "print(\"LEARNING CURVE MLP\")\n",
        "learn_svm_train_Size, learn_svm_Trainscore, learn_svm_TestScore, learn_svm_Fit, _= learning_curve(nn,trainingSet, trainingTarget, return_times=True)\n",
        "train_score_mean=np.mean(learn_svm_Trainscore, axis=1)\n",
        "train_score_std=np.std(learn_svm_Trainscore, axis=1)\n",
        "test_score_mean=np.mean(learn_svm_TestScore, axis=1)\n",
        "train_score_std=np.std(learn_svm_Trainscore, axis=1)\n",
        "test_score_std=np.std(learn_svm_TestScore, axis=1)\n",
        "\n",
        "_, axes=plt.subplots(1,4, figsize=(20,5))\n",
        "# axes[0].set_title(\"KNN\")\n",
        "# axes[0].set_xlabel(\"KNN\")\n",
        "# axes[0].set_ylabel(\"KNN Score\")\n",
        "# axes[0].grid()\n",
        "# axes\n",
        "# Plot learning curve\n",
        "axes[2].grid()\n",
        "axes[2].fill_between(learn_svm_train_Size, train_score_mean - train_score_std,\n",
        "                     train_score_mean + train_score_std, alpha=0.1,\n",
        "                     color=\"r\")\n",
        "axes[2].fill_between(learn_svm_train_Size, test_score_mean - test_score_std,\n",
        "                     test_score_mean + test_score_std, alpha=0.1,\n",
        "                     color=\"g\")\n",
        "axes[2].plot(learn_svm_train_Size, train_score_mean, 'o-', color=\"r\",\n",
        "             label=\"Training score\")\n",
        "axes[2].plot(learn_svm_train_Size, test_score_mean, 'o-', color=\"g\",\n",
        "             label=\"Cross-validation score\")\n",
        "axes[2].legend(loc=\"best\")\n",
        "plt.show()"
      ],
      "execution_count": null,
      "outputs": [
        {
          "output_type": "stream",
          "text": [
            "Iteration 1, loss = inf\n",
            "Iteration 2, loss = inf\n",
            "Iteration 3, loss = inf\n",
            "Iteration 4, loss = 5968919.67458124\n",
            "Iteration 5, loss = 12104063.03309826\n",
            "Iteration 6, loss = 19463565.16026079\n",
            "Iteration 7, loss = 27575791.93340791\n",
            "Iteration 8, loss = 36082620.00409222\n",
            "Iteration 9, loss = 44715479.78100219\n",
            "Iteration 10, loss = 53276189.23177461\n",
            "Iteration 1, loss = inf\n",
            "Iteration 2, loss = inf\n",
            "Iteration 3, loss = inf\n",
            "Iteration 4, loss = 6122850.79412687\n",
            "Iteration 5, loss = 12417726.11605222\n",
            "Iteration 6, loss = 19969055.36586939\n",
            "Iteration 7, loss = 28292861.85604853\n",
            "Iteration 8, loss = 37021649.20108829\n",
            "Iteration 9, loss = 45879817.64765063\n",
            "Iteration 10, loss = 54663996.53156845\n",
            "Iteration 1, loss = inf\n",
            "Iteration 2, loss = inf\n",
            "Iteration 3, loss = 42592.51728738\n",
            "Iteration 4, loss = 86646.11268616\n",
            "Iteration 5, loss = 139530.57787185\n",
            "Iteration 6, loss = 197847.92532330\n",
            "Iteration 7, loss = 259017.79518410\n",
            "Iteration 8, loss = 321104.90542736\n",
            "Iteration 9, loss = 382681.00646564\n",
            "Iteration 10, loss = 442714.61237941\n",
            "MLP Acc: [0.025  0.0375 0.025 ]\n",
            "LEARNING CURVE MLP\n",
            "Iteration 1, loss = 221.65906402\n",
            "Iteration 2, loss = inf\n",
            "Iteration 3, loss = 217963.12697594\n",
            "Iteration 4, loss = 443452.55648411\n",
            "Iteration 5, loss = 714149.19121687\n",
            "Iteration 6, loss = 1012657.91278966\n",
            "Iteration 7, loss = 1325769.15558164\n",
            "Iteration 8, loss = 1643575.62208311\n",
            "Iteration 9, loss = 1958765.62175821\n",
            "Iteration 10, loss = 2266058.59567807\n",
            "Iteration 1, loss = 246.97294561\n",
            "Iteration 2, loss = inf\n",
            "Iteration 3, loss = inf\n",
            "Iteration 4, loss = 237494.70132335\n",
            "Iteration 5, loss = 383024.37921234\n",
            "Iteration 6, loss = 543640.27699082\n",
            "Iteration 7, loss = 712202.19092365\n",
            "Iteration 8, loss = 883353.92558273\n",
            "Iteration 9, loss = 1053141.59776429\n",
            "Iteration 10, loss = 1218708.73563881\n",
            "Iteration 1, loss = 316.75991226\n",
            "Iteration 2, loss = inf\n",
            "Iteration 3, loss = inf\n",
            "Iteration 4, loss = 1276674.74500461\n",
            "Iteration 5, loss = 2574503.87545752\n",
            "Iteration 6, loss = 4129303.55505757\n",
            "Iteration 7, loss = 5841892.81218379\n",
            "Iteration 8, loss = 7636970.61886324\n",
            "Iteration 9, loss = 9458075.16452084\n",
            "Iteration 10, loss = 11263551.21777485\n",
            "Iteration 1, loss = inf\n",
            "Iteration 2, loss = inf\n",
            "Iteration 3, loss = 22562.48553019\n",
            "Iteration 4, loss = 45897.45136059\n",
            "Iteration 5, loss = 73910.07229151\n",
            "Iteration 6, loss = 104800.45422868\n",
            "Iteration 7, loss = 137201.79566861\n",
            "Iteration 8, loss = 170088.98907755\n",
            "Iteration 9, loss = 202705.49906486\n",
            "Iteration 10, loss = 234504.95366304\n",
            "Iteration 1, loss = inf\n",
            "Iteration 2, loss = inf\n",
            "Iteration 3, loss = inf\n",
            "Iteration 4, loss = 5117005.40525300\n",
            "Iteration 5, loss = 10378458.49265649\n",
            "Iteration 6, loss = 16690201.50318288\n",
            "Iteration 7, loss = 23647681.06669325\n",
            "Iteration 8, loss = 30943708.56401519\n"
          ],
          "name": "stdout"
        },
        {
          "output_type": "stream",
          "text": [
            "/usr/local/lib/python3.6/dist-packages/sklearn/neural_network/_multilayer_perceptron.py:571: ConvergenceWarning: Stochastic Optimizer: Maximum iterations (10) reached and the optimization hasn't converged yet.\n",
            "  % self.max_iter, ConvergenceWarning)\n",
            "/usr/local/lib/python3.6/dist-packages/sklearn/neural_network/_multilayer_perceptron.py:571: ConvergenceWarning: Stochastic Optimizer: Maximum iterations (10) reached and the optimization hasn't converged yet.\n",
            "  % self.max_iter, ConvergenceWarning)\n",
            "/usr/local/lib/python3.6/dist-packages/sklearn/neural_network/_multilayer_perceptron.py:571: ConvergenceWarning: Stochastic Optimizer: Maximum iterations (10) reached and the optimization hasn't converged yet.\n",
            "  % self.max_iter, ConvergenceWarning)\n",
            "/usr/local/lib/python3.6/dist-packages/sklearn/neural_network/_multilayer_perceptron.py:571: ConvergenceWarning: Stochastic Optimizer: Maximum iterations (10) reached and the optimization hasn't converged yet.\n",
            "  % self.max_iter, ConvergenceWarning)\n",
            "/usr/local/lib/python3.6/dist-packages/sklearn/neural_network/_multilayer_perceptron.py:571: ConvergenceWarning: Stochastic Optimizer: Maximum iterations (10) reached and the optimization hasn't converged yet.\n",
            "  % self.max_iter, ConvergenceWarning)\n",
            "/usr/local/lib/python3.6/dist-packages/sklearn/neural_network/_multilayer_perceptron.py:571: ConvergenceWarning: Stochastic Optimizer: Maximum iterations (10) reached and the optimization hasn't converged yet.\n",
            "  % self.max_iter, ConvergenceWarning)\n",
            "/usr/local/lib/python3.6/dist-packages/sklearn/neural_network/_multilayer_perceptron.py:571: ConvergenceWarning: Stochastic Optimizer: Maximum iterations (10) reached and the optimization hasn't converged yet.\n",
            "  % self.max_iter, ConvergenceWarning)\n",
            "/usr/local/lib/python3.6/dist-packages/sklearn/neural_network/_multilayer_perceptron.py:571: ConvergenceWarning: Stochastic Optimizer: Maximum iterations (10) reached and the optimization hasn't converged yet.\n",
            "  % self.max_iter, ConvergenceWarning)\n"
          ],
          "name": "stderr"
        },
        {
          "output_type": "stream",
          "text": [
            "Iteration 9, loss = 38347910.90544879\n",
            "Iteration 10, loss = 45690290.64512309\n",
            "Iteration 1, loss = 222.45234687\n",
            "Iteration 2, loss = inf\n",
            "Iteration 3, loss = 189782.63700327\n",
            "Iteration 4, loss = 386125.47925594\n",
            "Iteration 5, loss = 621833.59131415\n",
            "Iteration 6, loss = 881759.89509866\n",
            "Iteration 7, loss = 1154401.94331843\n",
            "Iteration 8, loss = 1431132.78682978\n",
            "Iteration 9, loss = 1705585.63937946\n",
            "Iteration 10, loss = 1973162.35263385\n",
            "Iteration 1, loss = 259.19927181\n",
            "Iteration 2, loss = inf\n",
            "Iteration 3, loss = inf\n",
            "Iteration 4, loss = 23603328.09497282\n",
            "Iteration 5, loss = 47918055.11878818\n",
            "Iteration 6, loss = 77092724.27019006\n",
            "Iteration 7, loss = 109255948.41904549\n",
            "Iteration 8, loss = 142986700.68234235\n",
            "Iteration 9, loss = 177219266.91324133\n",
            "Iteration 10, loss = 211167205.00737321\n",
            "Iteration 1, loss = 318.88537287\n",
            "Iteration 2, loss = inf\n",
            "Iteration 3, loss = 26986.99948457\n",
            "Iteration 4, loss = 54900.29574854\n",
            "Iteration 5, loss = 88409.28571862\n",
            "Iteration 6, loss = 125360.84913013\n",
            "Iteration 7, loss = 164119.95030879\n",
            "Iteration 8, loss = 203460.30333362\n",
            "Iteration 9, loss = 242476.90061688\n",
            "Iteration 10, loss = 280516.14188689\n",
            "Iteration 1, loss = inf\n",
            "Iteration 2, loss = inf\n",
            "Iteration 3, loss = inf\n",
            "Iteration 4, loss = 45206.25067640\n",
            "Iteration 5, loss = 73433.31702911\n",
            "Iteration 6, loss = 104711.88066171\n",
            "Iteration 7, loss = 137620.68194432\n",
            "Iteration 8, loss = 171092.64705070\n",
            "Iteration 9, loss = 204339.17821066\n",
            "Iteration 10, loss = 236789.67022017\n",
            "Iteration 1, loss = inf\n",
            "Iteration 2, loss = inf\n",
            "Iteration 3, loss = inf\n",
            "Iteration 4, loss = 79583.79486539\n",
            "Iteration 5, loss = 130328.12970426\n",
            "Iteration 6, loss = 186803.00645561\n",
            "Iteration 7, loss = 246382.41015273\n",
            "Iteration 8, loss = 307092.98839168\n",
            "Iteration 9, loss = 367474.67376019\n",
            "Iteration 10, loss = 426469.32511832\n",
            "Iteration 1, loss = 227.52670421\n",
            "Iteration 2, loss = inf\n",
            "Iteration 3, loss = inf\n",
            "Iteration 4, loss = 1864810.29200314\n",
            "Iteration 5, loss = 3632303.82808672\n",
            "Iteration 6, loss = 5731424.89037358\n",
            "Iteration 7, loss = 8032413.44352375\n",
            "Iteration 8, loss = 10436838.23087602\n",
            "Iteration 9, loss = 12870977.00670862\n",
            "Iteration 10, loss = 15280521.22787523\n",
            "Iteration 1, loss = 258.82831698\n",
            "Iteration 2, loss = inf\n",
            "Iteration 3, loss = inf\n",
            "Iteration 4, loss = 18467185.01069185\n",
            "Iteration 5, loss = 37470066.78919211\n",
            "Iteration 6, loss = 60268231.01177648\n",
            "Iteration 7, loss = 85399972.18269075\n",
            "Iteration 8, loss = 111755366.59625377\n",
            "Iteration 9, loss = 138502028.49492893\n",
            "Iteration 10, loss = 165025712.99674955\n",
            "Iteration 1, loss = 324.97516644\n",
            "Iteration 2, loss = inf\n",
            "Iteration 3, loss = inf\n",
            "Iteration 4, loss = 9073779.10526032\n",
            "Iteration 5, loss = 18436395.06229972\n",
            "Iteration 6, loss = 29672557.31055322\n",
            "Iteration 7, loss = 42061042.24202418\n",
            "Iteration 8, loss = 55054183.00551723\n",
            "Iteration 9, loss = 68241241.43343584\n"
          ],
          "name": "stdout"
        },
        {
          "output_type": "stream",
          "text": [
            "/usr/local/lib/python3.6/dist-packages/sklearn/neural_network/_multilayer_perceptron.py:571: ConvergenceWarning: Stochastic Optimizer: Maximum iterations (10) reached and the optimization hasn't converged yet.\n",
            "  % self.max_iter, ConvergenceWarning)\n",
            "/usr/local/lib/python3.6/dist-packages/sklearn/neural_network/_multilayer_perceptron.py:571: ConvergenceWarning: Stochastic Optimizer: Maximum iterations (10) reached and the optimization hasn't converged yet.\n",
            "  % self.max_iter, ConvergenceWarning)\n",
            "/usr/local/lib/python3.6/dist-packages/sklearn/neural_network/_multilayer_perceptron.py:571: ConvergenceWarning: Stochastic Optimizer: Maximum iterations (10) reached and the optimization hasn't converged yet.\n",
            "  % self.max_iter, ConvergenceWarning)\n",
            "/usr/local/lib/python3.6/dist-packages/sklearn/neural_network/_multilayer_perceptron.py:571: ConvergenceWarning: Stochastic Optimizer: Maximum iterations (10) reached and the optimization hasn't converged yet.\n",
            "  % self.max_iter, ConvergenceWarning)\n",
            "/usr/local/lib/python3.6/dist-packages/sklearn/neural_network/_multilayer_perceptron.py:571: ConvergenceWarning: Stochastic Optimizer: Maximum iterations (10) reached and the optimization hasn't converged yet.\n",
            "  % self.max_iter, ConvergenceWarning)\n",
            "/usr/local/lib/python3.6/dist-packages/sklearn/neural_network/_multilayer_perceptron.py:571: ConvergenceWarning: Stochastic Optimizer: Maximum iterations (10) reached and the optimization hasn't converged yet.\n",
            "  % self.max_iter, ConvergenceWarning)\n",
            "/usr/local/lib/python3.6/dist-packages/sklearn/neural_network/_multilayer_perceptron.py:571: ConvergenceWarning: Stochastic Optimizer: Maximum iterations (10) reached and the optimization hasn't converged yet.\n",
            "  % self.max_iter, ConvergenceWarning)\n",
            "/usr/local/lib/python3.6/dist-packages/sklearn/neural_network/_multilayer_perceptron.py:571: ConvergenceWarning: Stochastic Optimizer: Maximum iterations (10) reached and the optimization hasn't converged yet.\n",
            "  % self.max_iter, ConvergenceWarning)\n"
          ],
          "name": "stderr"
        },
        {
          "output_type": "stream",
          "text": [
            "Iteration 10, loss = 81319104.50498116\n",
            "Iteration 1, loss = inf\n",
            "Iteration 2, loss = inf\n",
            "Iteration 3, loss = 21685.32752612\n",
            "Iteration 4, loss = 44113.07211639\n",
            "Iteration 5, loss = 71036.63222314\n",
            "Iteration 6, loss = 100726.08481195\n",
            "Iteration 7, loss = 131867.76283236\n",
            "Iteration 8, loss = 163476.40975322\n",
            "Iteration 9, loss = 194824.90037436\n",
            "Iteration 10, loss = 225388.10276695\n",
            "Iteration 1, loss = inf\n",
            "Iteration 2, loss = inf\n",
            "Iteration 3, loss = inf\n",
            "Iteration 4, loss = 4008109.65362525\n",
            "Iteration 5, loss = 8122312.33970017\n",
            "Iteration 6, loss = 13056786.45372011\n",
            "Iteration 7, loss = 18495482.11410553\n",
            "Iteration 8, loss = 24198418.57760902\n",
            "Iteration 9, loss = 29985629.16996198\n",
            "Iteration 10, loss = 35724316.86666553\n",
            "Iteration 1, loss = 213.70983427\n",
            "Iteration 2, loss = inf\n",
            "Iteration 3, loss = inf\n",
            "Iteration 4, loss = 1892613.49421023\n",
            "Iteration 5, loss = 3679318.94023301\n",
            "Iteration 6, loss = 5800163.59570310\n",
            "Iteration 7, loss = 8124293.95104897\n",
            "Iteration 8, loss = 10552454.65482999\n",
            "Iteration 9, loss = 13010311.40321173\n",
            "Iteration 10, loss = 15443109.79976678\n",
            "Iteration 1, loss = 258.20022107\n",
            "Iteration 2, loss = inf\n",
            "Iteration 3, loss = inf\n",
            "Iteration 4, loss = 38434869.11924114\n",
            "Iteration 5, loss = 78083762.02933167\n",
            "Iteration 6, loss = 125665406.15613781\n",
            "Iteration 7, loss = 178125935.37865603\n",
            "Iteration 8, loss = 233146377.38649422\n",
            "Iteration 9, loss = 288987558.91869128\n",
            "Iteration 10, loss = 344366025.31121659\n",
            "Iteration 1, loss = 322.50085363\n",
            "Iteration 2, loss = inf\n",
            "Iteration 3, loss = inf\n",
            "Iteration 4, loss = 897472.71466169\n",
            "Iteration 5, loss = 1802599.64299424\n",
            "Iteration 6, loss = 2885910.13251252\n",
            "Iteration 7, loss = 4078533.00993805\n",
            "Iteration 8, loss = 5328184.18670512\n",
            "Iteration 9, loss = 6595664.96985381\n",
            "Iteration 10, loss = 7852060.70562571\n",
            "Iteration 1, loss = inf\n",
            "Iteration 2, loss = inf\n",
            "Iteration 3, loss = 22260.31632489\n",
            "Iteration 4, loss = 45282.77537665\n",
            "Iteration 5, loss = 72920.25563989\n",
            "Iteration 6, loss = 103396.96461110\n",
            "Iteration 7, loss = 135364.40297637\n",
            "Iteration 8, loss = 167811.18988328\n",
            "Iteration 9, loss = 199990.92026740\n",
            "Iteration 10, loss = 231364.53826633\n",
            "Iteration 1, loss = inf\n",
            "Iteration 2, loss = inf\n",
            "Iteration 3, loss = inf\n",
            "Iteration 4, loss = 4121012.26925423\n",
            "Iteration 5, loss = 8351611.24891838\n",
            "Iteration 6, loss = 13425760.88757064\n",
            "Iteration 7, loss = 19018448.75979261\n",
            "Iteration 8, loss = 24882888.40599631\n",
            "Iteration 9, loss = 30834009.07236534\n",
            "Iteration 10, loss = 36735247.12634250\n"
          ],
          "name": "stdout"
        },
        {
          "output_type": "stream",
          "text": [
            "/usr/local/lib/python3.6/dist-packages/sklearn/neural_network/_multilayer_perceptron.py:571: ConvergenceWarning: Stochastic Optimizer: Maximum iterations (10) reached and the optimization hasn't converged yet.\n",
            "  % self.max_iter, ConvergenceWarning)\n",
            "/usr/local/lib/python3.6/dist-packages/sklearn/neural_network/_multilayer_perceptron.py:571: ConvergenceWarning: Stochastic Optimizer: Maximum iterations (10) reached and the optimization hasn't converged yet.\n",
            "  % self.max_iter, ConvergenceWarning)\n",
            "/usr/local/lib/python3.6/dist-packages/sklearn/neural_network/_multilayer_perceptron.py:571: ConvergenceWarning: Stochastic Optimizer: Maximum iterations (10) reached and the optimization hasn't converged yet.\n",
            "  % self.max_iter, ConvergenceWarning)\n",
            "/usr/local/lib/python3.6/dist-packages/sklearn/neural_network/_multilayer_perceptron.py:571: ConvergenceWarning: Stochastic Optimizer: Maximum iterations (10) reached and the optimization hasn't converged yet.\n",
            "  % self.max_iter, ConvergenceWarning)\n",
            "/usr/local/lib/python3.6/dist-packages/sklearn/neural_network/_multilayer_perceptron.py:571: ConvergenceWarning: Stochastic Optimizer: Maximum iterations (10) reached and the optimization hasn't converged yet.\n",
            "  % self.max_iter, ConvergenceWarning)\n",
            "/usr/local/lib/python3.6/dist-packages/sklearn/neural_network/_multilayer_perceptron.py:571: ConvergenceWarning: Stochastic Optimizer: Maximum iterations (10) reached and the optimization hasn't converged yet.\n",
            "  % self.max_iter, ConvergenceWarning)\n",
            "/usr/local/lib/python3.6/dist-packages/sklearn/neural_network/_multilayer_perceptron.py:571: ConvergenceWarning: Stochastic Optimizer: Maximum iterations (10) reached and the optimization hasn't converged yet.\n",
            "  % self.max_iter, ConvergenceWarning)\n",
            "/usr/local/lib/python3.6/dist-packages/sklearn/neural_network/_multilayer_perceptron.py:571: ConvergenceWarning: Stochastic Optimizer: Maximum iterations (10) reached and the optimization hasn't converged yet.\n",
            "  % self.max_iter, ConvergenceWarning)\n"
          ],
          "name": "stderr"
        },
        {
          "output_type": "stream",
          "text": [
            "Iteration 1, loss = 210.70418017\n",
            "Iteration 2, loss = inf\n",
            "Iteration 3, loss = inf\n",
            "Iteration 4, loss = 1892854.83317094\n",
            "Iteration 5, loss = 3679607.71779299\n",
            "Iteration 6, loss = 5800480.84450092\n",
            "Iteration 7, loss = 8124625.30282678\n",
            "Iteration 8, loss = 10552789.36709361\n",
            "Iteration 9, loss = 13010641.58077245\n",
            "Iteration 10, loss = 15443429.77314340\n",
            "Iteration 1, loss = 251.22641500\n",
            "Iteration 2, loss = inf\n",
            "Iteration 3, loss = inf\n",
            "Iteration 4, loss = 41153547.34516348\n",
            "Iteration 5, loss = 83613356.71625194\n",
            "Iteration 6, loss = 134569207.76813388\n",
            "Iteration 7, loss = 190750469.94568539\n",
            "Iteration 8, loss = 249673565.31011450\n",
            "Iteration 9, loss = 309475866.31846422\n",
            "Iteration 10, loss = 368782809.04422593\n",
            "Iteration 1, loss = 316.12976493\n",
            "Iteration 2, loss = inf\n",
            "Iteration 3, loss = inf\n",
            "Iteration 4, loss = 839130.45827606\n",
            "Iteration 5, loss = 1684066.59243827\n",
            "Iteration 6, loss = 2695142.64484141\n",
            "Iteration 7, loss = 3808123.75897356\n",
            "Iteration 8, loss = 4974246.46495485\n",
            "Iteration 9, loss = 6156952.45196973\n",
            "Iteration 10, loss = 7329275.58798917\n",
            "Iteration 1, loss = inf\n",
            "Iteration 2, loss = inf\n",
            "Iteration 3, loss = inf\n",
            "Iteration 4, loss = 97664.84669011\n",
            "Iteration 5, loss = 158139.53447750\n",
            "Iteration 6, loss = 225032.93530906\n",
            "Iteration 7, loss = 295334.57957585\n",
            "Iteration 8, loss = 366785.07608941\n",
            "Iteration 9, loss = 437715.49869393\n",
            "Iteration 10, loss = 506919.08018789\n",
            "Iteration 1, loss = inf\n",
            "Iteration 2, loss = inf\n",
            "Iteration 3, loss = inf\n",
            "Iteration 4, loss = 4220296.70778834\n",
            "Iteration 5, loss = 8553584.08448907\n",
            "Iteration 6, loss = 13750993.10365484\n",
            "Iteration 7, loss = 19479594.64224071\n",
            "Iteration 8, loss = 25486590.53239638\n",
            "Iteration 9, loss = 31582401.27257310\n",
            "Iteration 10, loss = 37627135.80758271\n"
          ],
          "name": "stdout"
        },
        {
          "output_type": "stream",
          "text": [
            "/usr/local/lib/python3.6/dist-packages/sklearn/neural_network/_multilayer_perceptron.py:571: ConvergenceWarning: Stochastic Optimizer: Maximum iterations (10) reached and the optimization hasn't converged yet.\n",
            "  % self.max_iter, ConvergenceWarning)\n",
            "/usr/local/lib/python3.6/dist-packages/sklearn/neural_network/_multilayer_perceptron.py:571: ConvergenceWarning: Stochastic Optimizer: Maximum iterations (10) reached and the optimization hasn't converged yet.\n",
            "  % self.max_iter, ConvergenceWarning)\n",
            "/usr/local/lib/python3.6/dist-packages/sklearn/neural_network/_multilayer_perceptron.py:571: ConvergenceWarning: Stochastic Optimizer: Maximum iterations (10) reached and the optimization hasn't converged yet.\n",
            "  % self.max_iter, ConvergenceWarning)\n",
            "/usr/local/lib/python3.6/dist-packages/sklearn/neural_network/_multilayer_perceptron.py:571: ConvergenceWarning: Stochastic Optimizer: Maximum iterations (10) reached and the optimization hasn't converged yet.\n",
            "  % self.max_iter, ConvergenceWarning)\n"
          ],
          "name": "stderr"
        },
        {
          "output_type": "display_data",
          "data": {
            "image/png": "[encoded data removed]",
            "text/plain": [
              "<Figure size 1440x360 with 4 Axes>"
            ]
          },
          "metadata": {
            "tags": [],
            "needs_background": "light"
          }
        }
      ]
    },
    {
      "cell_type": "code",
      "metadata": {
        "id": "wewblkXKZv0t",
        "colab_type": "code",
        "colab": {
          "base_uri": "https://localhost:8080/",
          "height": 50
        },
        "outputId": "c1d5696b-1e64-44ac-d7fc-287d6ad32359"
      },
      "source": [
        "temp = cross_val_score(svm_clf, trainingSet, trainingTarget, cv=3, scoring=\"accuracy\")\n",
        "print(\"SVM Acc:\", temp)\n",
        "temp = cross_val_score(rfc, trainingSet, trainingTarget, cv=3, scoring=\"accuracy\")\n",
        "print(\"RFC Acc:\", temp)"
      ],
      "execution_count": null,
      "outputs": [
        {
          "output_type": "stream",
          "text": [
            "SVM Acc: [0.7125 0.7625 0.7375]\n",
            "RFC Acc: [0.8125 0.875  0.8375]\n"
          ],
          "name": "stdout"
        }
      ]
    },
    {
      "cell_type": "code",
      "metadata": {
        "id": "6XIf4RecLd6g",
        "colab_type": "code",
        "colab": {
          "base_uri": "https://localhost:8080/",
          "height": 328
        },
        "outputId": "32190c59-0759-4f08-fbfb-4ccf774fee80"
      },
      "source": [
        "print(\"LEARNING CURVE KNN\")\n",
        "learn_knn_train_Size, learn_knn_TrainScore, learn_knn_TestScore, learn_knn_Fit, _= learning_curve(knn_clf,trainingSet, trainingTarget, return_times=True)\n",
        "train_score_mean=np.mean(learn_knn_TrainScore, axis=1)\n",
        "train_score_std=np.std(learn_knn_TrainScore, axis=1)\n",
        "test_score_mean=np.mean(learn_knn_TestScore, axis=1)\n",
        "test_score_std=np.std(learn_knn_TestScore, axis=1)\n",
        "\n",
        "_, axes=plt.subplots(1,3, figsize=(20,5))\n",
        "# axes[0].set_title(\"KNN\")\n",
        "# axes[0].set_xlabel(\"KNN\")\n",
        "# axes[0].set_ylabel(\"KNN Score\")\n",
        "# axes[0].grid()\n",
        "# axes\n",
        "# Plot learning curve\n",
        "axes[0].grid()\n",
        "axes[0].fill_between(learn_knn_train_Size, train_score_mean - train_score_std,\n",
        "                     train_score_mean + train_score_std, alpha=0.1,\n",
        "                     color=\"r\")\n",
        "axes[0].fill_between(learn_knn_train_Size, test_score_mean - test_score_std,\n",
        "                     test_score_mean + test_score_std, alpha=0.1,\n",
        "                     color=\"g\")\n",
        "axes[0].plot(learn_knn_train_Size, train_score_mean, 'o-', color=\"r\",\n",
        "             label=\"Training score\")\n",
        "axes[0].plot(learn_knn_train_Size, test_score_mean, 'o-', color=\"g\",\n",
        "             label=\"Cross-validation score\")\n",
        "axes[0].legend(loc=\"best\")\n",
        "plt.show()"
      ],
      "execution_count": null,
      "outputs": [
        {
          "output_type": "stream",
          "text": [
            "LEARNING CURVE KNN\n"
          ],
          "name": "stdout"
        },
        {
          "output_type": "display_data",
          "data": {
            "image/png": "[encoded data removed]",
            "text/plain": [
              "<Figure size 1440x360 with 3 Axes>"
            ]
          },
          "metadata": {
            "tags": [],
            "needs_background": "light"
          }
        }
      ]
    },
    {
      "cell_type": "code",
      "metadata": {
        "id": "DsRSDHbVdTQX",
        "colab_type": "code",
        "colab": {
          "base_uri": "https://localhost:8080/",
          "height": 328
        },
        "outputId": "cdc7fa39-2fc2-4f14-c9ec-eb043cbb7a40"
      },
      "source": [
        "print(\"LEARNING CURVE RFC\")\n",
        "learn_knn_train_Size, learn_knn_TrainScore, learn_knn_TestScore, learn_knn_Fit, _= learning_curve(rfc,trainingSet, trainingTarget, return_times=True)\n",
        "train_score_mean=np.mean(learn_knn_TrainScore, axis=1)\n",
        "train_score_std=np.std(learn_knn_TrainScore, axis=1)\n",
        "test_score_mean=np.mean(learn_knn_TestScore, axis=1)\n",
        "test_score_std=np.std(learn_knn_TestScore, axis=1)\n",
        "\n",
        "_, axes=plt.subplots(1,3, figsize=(20,5))\n",
        "# axes[0].set_title(\"KNN\")\n",
        "# axes[0].set_xlabel(\"KNN\")\n",
        "# axes[0].set_ylabel(\"KNN Score\")\n",
        "# axes[0].grid()\n",
        "# axes\n",
        "# Plot learning curve\n",
        "axes[0].grid()\n",
        "axes[0].fill_between(learn_knn_train_Size, train_score_mean - train_score_std,\n",
        "                     train_score_mean + train_score_std, alpha=0.1,\n",
        "                     color=\"r\")\n",
        "axes[0].fill_between(learn_knn_train_Size, test_score_mean - test_score_std,\n",
        "                     test_score_mean + test_score_std, alpha=0.1,\n",
        "                     color=\"g\")\n",
        "axes[0].plot(learn_knn_train_Size, train_score_mean, 'o-', color=\"r\",\n",
        "             label=\"Training score\")\n",
        "axes[0].plot(learn_knn_train_Size, test_score_mean, 'o-', color=\"g\",\n",
        "             label=\"Cross-validation score\")\n",
        "axes[0].legend(loc=\"best\")\n",
        "plt.show()"
      ],
      "execution_count": null,
      "outputs": [
        {
          "output_type": "stream",
          "text": [
            "LEARNING CURVE RFC\n"
          ],
          "name": "stdout"
        },
        {
          "output_type": "display_data",
          "data": {
            "image/png": "[encoded data removed]",
            "text/plain": [
              "<Figure size 1440x360 with 3 Axes>"
            ]
          },
          "metadata": {
            "tags": [],
            "needs_background": "light"
          }
        }
      ]
    },
    {
      "cell_type": "code",
      "metadata": {
        "id": "urO5VTIVdtVk",
        "colab_type": "code",
        "colab": {
          "base_uri": "https://localhost:8080/",
          "height": 345
        },
        "outputId": "861ec4f4-f5d8-421d-ec07-466087146a06"
      },
      "source": [
        "print(\"LEARNING CURVE SVM\")\n",
        "learn_knn_train_Size, learn_knn_TrainScore, learn_knn_TestScore, learn_knn_Fit, _= learning_curve(svm_clf,trainingSet, trainingTarget, return_times=True)\n",
        "train_score_mean=np.mean(learn_knn_TrainScore, axis=1)\n",
        "train_score_std=np.std(learn_knn_TrainScore, axis=1)\n",
        "test_score_mean=np.mean(learn_knn_TestScore, axis=1)\n",
        "test_score_std=np.std(learn_knn_TestScore, axis=1)\n",
        "\n",
        "_, axes=plt.subplots(1,3, figsize=(20,5))\n",
        "# axes[0].set_title(\"KNN\")\n",
        "# axes[0].set_xlabel(\"KNN\")\n",
        "# axes[0].set_ylabel(\"KNN Score\")\n",
        "# axes[0].grid()\n",
        "# axes\n",
        "# Plot learning curve\n",
        "axes[0].grid()\n",
        "axes[0].fill_between(learn_knn_train_Size, train_score_mean - train_score_std,\n",
        "                     train_score_mean + train_score_std, alpha=0.1,\n",
        "                     color=\"r\")\n",
        "axes[0].fill_between(learn_knn_train_Size, test_score_mean - test_score_std,\n",
        "                     test_score_mean + test_score_std, alpha=0.1,\n",
        "                     color=\"g\")\n",
        "axes[0].plot(learn_knn_train_Size, train_score_mean, 'o-', color=\"r\",\n",
        "             label=\"Training score\")\n",
        "axes[0].plot(learn_knn_train_Size, test_score_mean, 'o-', color=\"g\",\n",
        "             label=\"Cross-validation score\")\n",
        "axes[0].legend(loc=\"best\")\n",
        "# plt.show()"
      ],
      "execution_count": null,
      "outputs": [
        {
          "output_type": "stream",
          "text": [
            "LEARNING CURVE SVM\n"
          ],
          "name": "stdout"
        },
        {
          "output_type": "execute_result",
          "data": {
            "text/plain": [
              "<matplotlib.legend.Legend at 0x7f60a310bba8>"
            ]
          },
          "metadata": {
            "tags": []
          },
          "execution_count": 11
        },
        {
          "output_type": "display_data",
          "data": {
            "image/png": "[encoded data removed]",
            "text/plain": [
              "<Figure size 1440x360 with 3 Axes>"
            ]
          },
          "metadata": {
            "tags": [],
            "needs_background": "light"
          }
        }
      ]
    },
    {
      "cell_type": "code",
      "metadata": {
        "id": "-izzJa20eI4V",
        "colab_type": "code",
        "colab": {
          "base_uri": "https://localhost:8080/",
          "height": 317
        },
        "outputId": "37219b5c-1926-4742-f066-d32ab5ad6f73"
      },
      "source": [
        "from sklearn.metrics import plot_confusion_matrix\n",
        "\n",
        "knn_cfm= plot_confusion_matrix(knn_clf, trainingSet, trainingTarget, normalize='true')\n",
        "print(\"KNN\")\n",
        "print(knn_cfm)"
      ],
      "execution_count": null,
      "outputs": [
        {
          "output_type": "stream",
          "text": [
            "KNN\n",
            "<sklearn.metrics._plot.confusion_matrix.ConfusionMatrixDisplay object at 0x7f60a9ba6320>\n"
          ],
          "name": "stdout"
        },
        {
          "output_type": "display_data",
          "data": {
            "image/png": "[encoded data removed]",
            "text/plain": [
              "<Figure size 432x288 with 2 Axes>"
            ]
          },
          "metadata": {
            "tags": [],
            "needs_background": "light"
          }
        }
      ]
    },
    {
      "cell_type": "code",
      "metadata": {
        "id": "kfi6GQFTVwwM",
        "colab_type": "code",
        "colab": {
          "base_uri": "https://localhost:8080/",
          "height": 317
        },
        "outputId": "c6b5c7d4-2573-479e-e413-c252ec5eb223"
      },
      "source": [
        "mlp_cfm= plot_confusion_matrix(nn, trainingSet, trainingTarget, normalize='true')\n",
        "print(\"MLP CONF MATRIX\")\n",
        "mlp_cfm"
      ],
      "execution_count": null,
      "outputs": [
        {
          "output_type": "stream",
          "text": [
            "MLP CONF MATRIX\n"
          ],
          "name": "stdout"
        },
        {
          "output_type": "execute_result",
          "data": {
            "text/plain": [
              "<sklearn.metrics._plot.confusion_matrix.ConfusionMatrixDisplay at 0x7f60a1977278>"
            ]
          },
          "metadata": {
            "tags": []
          },
          "execution_count": 13
        },
        {
          "output_type": "display_data",
          "data": {
            "image/png": "[encoded data removed]",
            "text/plain": [
              "<Figure size 432x288 with 2 Axes>"
            ]
          },
          "metadata": {
            "tags": [],
            "needs_background": "light"
          }
        }
      ]
    },
    {
      "cell_type": "code",
      "metadata": {
        "id": "P5ftYqxwyVEA",
        "colab_type": "code",
        "colab": {
          "base_uri": "https://localhost:8080/",
          "height": 317
        },
        "outputId": "79f4ad8e-579e-4e17-feb4-aa9acf3f42e4"
      },
      "source": [
        "svm_cfm= plot_confusion_matrix(svm_clf, trainingSet, trainingTarget, normalize='true')\n",
        "print(\"SVM CONF MATRIX\")\n",
        "svm_cfm\n",
        "# print(svm_cfm)"
      ],
      "execution_count": null,
      "outputs": [
        {
          "output_type": "stream",
          "text": [
            "SVM CONF MATRIX\n"
          ],
          "name": "stdout"
        },
        {
          "output_type": "execute_result",
          "data": {
            "text/plain": [
              "<sklearn.metrics._plot.confusion_matrix.ConfusionMatrixDisplay at 0x7f60a0cdb2e8>"
            ]
          },
          "metadata": {
            "tags": []
          },
          "execution_count": 14
        },
        {
          "output_type": "display_data",
          "data": {
            "image/png": "[encoded data removed]",
            "text/plain": [
              "<Figure size 432x288 with 2 Axes>"
            ]
          },
          "metadata": {
            "tags": [],
            "needs_background": "light"
          }
        }
      ]
    },
    {
      "cell_type": "code",
      "metadata": {
        "id": "xv-7xsuNyrxH",
        "colab_type": "code",
        "colab": {
          "base_uri": "https://localhost:8080/",
          "height": 317
        },
        "outputId": "5da157cb-1aa2-4feb-977b-eb062d5b7656"
      },
      "source": [
        "rfc_cfm= plot_confusion_matrix(rfc, trainingSet, trainingTarget, normalize='true')\n",
        "print(\"RFC CONF MATRIX\")\n",
        "rfc_cfm\n"
      ],
      "execution_count": null,
      "outputs": [
        {
          "output_type": "stream",
          "text": [
            "RFC CONF MATRIX\n"
          ],
          "name": "stdout"
        },
        {
          "output_type": "execute_result",
          "data": {
            "text/plain": [
              "<sklearn.metrics._plot.confusion_matrix.ConfusionMatrixDisplay at 0x7f609e579d68>"
            ]
          },
          "metadata": {
            "tags": []
          },
          "execution_count": 15
        },
        {
          "output_type": "display_data",
          "data": {
            "image/png": "[encoded data removed]",
            "text/plain": [
              "<Figure size 432x288 with 2 Axes>"
            ]
          },
          "metadata": {
            "tags": [],
            "needs_background": "light"
          }
        }
      ]
    }
  ]
}